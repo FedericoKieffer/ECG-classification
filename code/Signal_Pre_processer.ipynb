{
 "cells": [
  {
   "cell_type": "markdown",
   "metadata": {
    "id": "D2rqt-dPwabZ"
   },
   "source": [
    "## Import Libraries"
   ]
  },
  {
   "cell_type": "code",
   "execution_count": null,
   "metadata": {
    "colab": {
     "base_uri": "https://localhost:8080/",
     "height": 67
    },
    "id": "ZnajB9rXuWFV",
    "outputId": "cb13da6b-7ef0-4052-e600-22d7984716fb"
   },
   "outputs": [
    {
     "name": "stdout",
     "output_type": "stream",
     "text": [
      "TensorFlow 1.x selected.\n",
      "Tensorflow version 1.15.2\n"
     ]
    },
    {
     "name": "stderr",
     "output_type": "stream",
     "text": [
      "Using TensorFlow backend.\n"
     ]
    }
   ],
   "source": [
    "%tensorflow_version 1.x\n",
    "\n",
    "import scipy.io\n",
    "import scipy.signal\n",
    "import random\n",
    "import os\n",
    "from os import environ\n",
    "import numpy as np\n",
    "import pandas as pd\n",
    "import csv\n",
    "import cv2 \n",
    "from skimage import color\n",
    "from google.colab import drive\n",
    "import matplotlib.pyplot as plt\n",
    "from matplotlib.pyplot import plot\n",
    "from sklearn.metrics import classification_report, confusion_matrix\n",
    "import tensorflow as tf\n",
    "from tensorflow.initializers import random_uniform\n",
    "import keras\n",
    "from keras.callbacks import ModelCheckpoint\n",
    "from keras.models import Sequential\n",
    "from keras.layers import Dense, Activation, Dropout, Flatten, Conv2D\n",
    "from keras.layers.normalization import BatchNormalization\n",
    "from keras import regularizers\n",
    "from keras import optimizers\n",
    "from tensorflow.initializers import random_uniform\n",
    "\n",
    "print(\"Tensorflow version %s\" %tf.__version__)"
   ]
  },
  {
   "cell_type": "markdown",
   "metadata": {
    "id": "IsuZTcTLwecg"
   },
   "source": [
    "## Define data locations"
   ]
  },
  {
   "cell_type": "code",
   "execution_count": null,
   "metadata": {
    "colab": {
     "base_uri": "https://localhost:8080/",
     "height": 121
    },
    "id": "hIqfBbueuZCT",
    "outputId": "1c618198-c1e1-4d53-a9e1-738aed9f615a"
   },
   "outputs": [
    {
     "name": "stdout",
     "output_type": "stream",
     "text": [
      "Go to this URL in a browser: https://accounts.google.com/o/oauth2/auth?client_id=947318989803-6bn6qk8qdgf4n4g3pfee6491hc0brc4i.apps.googleusercontent.com&redirect_uri=urn%3aietf%3awg%3aoauth%3a2.0%3aoob&response_type=code&scope=email%20https%3a%2f%2fwww.googleapis.com%2fauth%2fdocs.test%20https%3a%2f%2fwww.googleapis.com%2fauth%2fdrive%20https%3a%2f%2fwww.googleapis.com%2fauth%2fdrive.photos.readonly%20https%3a%2f%2fwww.googleapis.com%2fauth%2fpeopleapi.readonly\n",
      "\n",
      "Enter your authorization code:\n",
      "··········\n",
      "Mounted at /content/drive\n"
     ]
    }
   ],
   "source": [
    "drive.mount('/content/drive', force_remount=True)\n",
    "\n",
    "DataDir = '/content/drive/My Drive/Dataset/Recordings/'\n",
    "LabelsDir = '/content/drive/My Drive/Dataset/Labels/REFERENCE-v3.csv'\n",
    "imagespath = '/content/drive/My Drive/Neural Network Project/TrainingSet3R/'"
   ]
  },
  {
   "cell_type": "markdown",
   "metadata": {
    "id": "hEtdIDokwqaE"
   },
   "source": [
    "## Custom Functions"
   ]
  },
  {
   "cell_type": "code",
   "execution_count": null,
   "metadata": {
    "id": "oAN5EP4FwN7z"
   },
   "outputs": [],
   "source": [
    "def produce_dataset(Dataset, integer):\n",
    "    length=len(Dataset)\n",
    "    Dataset_integer=[]\n",
    "    for i in range(0, length):\n",
    "        if Dataset[i][1]==integer:\n",
    "            Dataset_integer.append([Dataset[i][0], Dataset[i][1]])\n",
    "    return Dataset_integer\n",
    "\n",
    "def butter_highpass(cutoff, fs, order=5):\n",
    "    nyq = 0.5*fs\n",
    "    normal_cutoff = cutoff/nyq\n",
    "    b, a = scipy.signal.butter(order, normal_cutoff, btype='high', analog=False, output='ba')\n",
    "    return b, a\n",
    "\n",
    "def butter_lowpass(cutoff, fs, order=5):\n",
    "    nyq = 0.5*fs\n",
    "    normal_cutoff = cutoff/nyq\n",
    "    b, a = scipy.signal.butter(order, normal_cutoff, btype='low', analog=False, output='ba')\n",
    "    return b, a\n",
    "\n",
    "def bandpass_filter(data, fs, order=5):\n",
    "    b, a = butter_highpass(cutoff_high, fs, order=order)\n",
    "    x = scipy.signal.lfilter(b, a, data)\n",
    "    d, c = butter_lowpass(cutoff_low, fs, order = order)\n",
    "    y = scipy.signal.lfilter(d, c, x)   \n",
    "    return x\n",
    "    return y"
   ]
  },
  {
   "cell_type": "markdown",
   "metadata": {
    "id": "5KfELLVVwsuY"
   },
   "source": [
    "## Import records and Labels"
   ]
  },
  {
   "cell_type": "code",
   "execution_count": null,
   "metadata": {
    "colab": {
     "base_uri": "https://localhost:8080/",
     "height": 34
    },
    "id": "IIxQ53-YufNP",
    "outputId": "88c4a3f4-3833-4d82-caae-47c65b29e064"
   },
   "outputs": [
    {
     "name": "stdout",
     "output_type": "stream",
     "text": [
      "Loaded 8528 labels\n"
     ]
    }
   ],
   "source": [
    "mats = []\n",
    "\n",
    "i=1\n",
    "for recording in os.listdir(DataDir) :\n",
    "    mats.append(scipy.io.loadmat(DataDir+str(i)+\".mat\"))\n",
    "    i+=1\n",
    "    if i==100:\n",
    "        break\n",
    "     \n",
    "    \n",
    "Annotations=pd.read_csv(LabelsDir, names=['label'])\n",
    "print('Loaded %d labels' %(len(Annotations.label)))\n",
    "\n",
    "#Encode labels\n",
    "for i in range (0, len(Annotations)):\n",
    "    if Annotations.iloc[i][0]=='N':\n",
    "    Annotations.iloc[i][0]=0\n",
    "    elif Annotations.iloc[i][0]=='A':\n",
    "    Annotations.iloc[i][0]=1\n",
    "    elif Annotations.iloc[i][0]=='O':\n",
    "    Annotations.iloc[i][0]=2\n",
    "    elif Annotations.iloc[i][0]=='~':\n",
    "    Annotations.iloc[i][0]=3     "
   ]
  },
  {
   "cell_type": "markdown",
   "metadata": {
    "id": "jG1AmrElwvF7"
   },
   "source": [
    "## Generate Dataset"
   ]
  },
  {
   "cell_type": "code",
   "execution_count": null,
   "metadata": {
    "id": "bfAMgOTXujjB"
   },
   "outputs": [],
   "source": [
    "Dataset=[]\n",
    "for i in range(0, len(mats)):\n",
    "    Dataset.append([mats[i], Annotations.iloc[i][0]])\n",
    "\n",
    "Dataset=np.array(Dataset)\n",
    "\n",
    "Selected_Dataset=[]\n",
    "for i in range(0, len(Dataset)):\n",
    "    if Dataset[i][1]==0:   \n",
    "    Selected_Dataset.append([Dataset[i][0], Dataset[i][1]])\n",
    "    elif Dataset[i][1]==1:\n",
    "    Selected_Dataset.append([Dataset[i][0], Dataset[i][1]])\n",
    "    elif Dataset[i][1]==2:\n",
    "    Selected_Dataset.append([Dataset[i][0], Dataset[i][1]])\n",
    "    elif Dataset[i][1]==3:\n",
    "    Selected_Dataset.append([Dataset[i][0], Dataset[i][1]])\n",
    "\n",
    "Selected_Dataset=np.array(Selected_Dataset)  "
   ]
  },
  {
   "cell_type": "markdown",
   "metadata": {
    "id": "MAhSsY_mzHRw"
   },
   "source": [
    "## Augment Dataset"
   ]
  },
  {
   "cell_type": "code",
   "execution_count": null,
   "metadata": {
    "id": "42MetTi7zJcb"
   },
   "outputs": [],
   "source": [
    "Segments=[]\n",
    "Lenghts=[]\n",
    "SL=1500\n",
    "for i in range (0, len(Selected_Dataset)):\n",
    "    #Define the number of sub-ECGs (lossy approximation)\n",
    "    N=len(Selected_Dataset[i][0]['val'].flatten())//SL\n",
    "    #Define the new 'even' lenght of ECGs\n",
    "    New_len=N*SL\n",
    "    ECG_modified = Selected_Dataset[i][0]['val'].flatten()[0:New_len]\n",
    "    #Split the the modified ECGs in N sub-sequences\n",
    "    ECG_segments = np.split(ECG_modified, N, axis=0)\n",
    "    Segments.append(ECG_segments)\n",
    "    #Transform List of lists into NdArray\n",
    "    ECGs = np.array([np.array(xi) for xi in Segments])\n",
    "\n",
    "\n",
    "n=0\n",
    "a=0\n",
    "r=0\n",
    "o=0\n",
    "Augmented_Dataset=[]\n",
    "for i in range (0, len(ECGs)):\n",
    "    for j in range (0, len(ECGs[i])):\n",
    "        #Make sure the dataset is balanced\n",
    "        if Selected_Dataset[i][1]==0 and n<1000:\n",
    "            Augmented_Dataset.append([ECGs[i][j], Selected_Dataset[i][1]])\n",
    "            n+=1\n",
    "        elif Selected_Dataset[i][1]==1 and a<1000:\n",
    "            Augmented_Dataset.append([ECGs[i][j], Selected_Dataset[i][1]])\n",
    "            a+=1\n",
    "        elif Selected_Dataset[i][1]==2 and o<1000:\n",
    "            Augmented_Dataset.append([ECGs[i][j], Selected_Dataset[i][1]])\n",
    "            o+=1\n",
    "        elif Selected_Dataset[i][1]==3 and r<1000:\n",
    "            Augmented_Dataset.append([ECGs[i][j], Selected_Dataset[i][1]])\n",
    "            r+=1  \n",
    "\n",
    "\n",
    "Dataset_N=produce_dataset(Augmented_Dataset, 0)\n",
    "Dataset_A=produce_dataset(Augmented_Dataset, 1)\n",
    "Dataset_O=produce_dataset(Augmented_Dataset, 2)\n",
    "Dataset_R=produce_dataset(Augmented_Dataset, 3)"
   ]
  },
  {
   "cell_type": "markdown",
   "metadata": {
    "id": "awUg2haHw2FV"
   },
   "source": [
    "## Separate features and labels"
   ]
  },
  {
   "cell_type": "code",
   "execution_count": null,
   "metadata": {
    "id": "8zouIiiYuvHz"
   },
   "outputs": [],
   "source": [
    "X_train=[]\n",
    "Y_train=[]\n",
    "\n",
    "for recordings, label in Dataset_R:\n",
    "    X_train.append(recordings)\n",
    "    Y_train.append(label)\n",
    "\n",
    "X_train=np.array(X_train)"
   ]
  },
  {
   "cell_type": "markdown",
   "metadata": {
    "id": "m5HJ4Pkkw4qk"
   },
   "source": [
    "## Pre-process signals"
   ]
  },
  {
   "cell_type": "code",
   "execution_count": null,
   "metadata": {
    "id": "dEN46ipGu1xr"
   },
   "outputs": [],
   "source": [
    "fs = 300\n",
    "cutoff_low = 40\n",
    "cutoff_high = 0.5\n",
    "order=6\n",
    "x_train=[]\n",
    "Max_len_train=[]\n",
    "for i in range (0, len(X_train)):\n",
    "    # get rid of floating bias on lead\n",
    "    running_median = scipy.signal.medfilt(X_train[i], kernel_size=[399])\n",
    "    ECG = X_train[i] - running_median\n",
    "    # rescale to same dynamic range\n",
    "    ECG = 1/np.max(abs(ECG)) * ECG\n",
    "    # bandpass the signal\n",
    "    ECG_filtered = bandpass_filter(ECG, fs, order)\n",
    "    x_train.insert(i, ECG_filtered)"
   ]
  },
  {
   "cell_type": "markdown",
   "metadata": {
    "id": "O1uQz_Jow7Dz"
   },
   "source": [
    "## Plot a random ECG"
   ]
  },
  {
   "cell_type": "code",
   "execution_count": null,
   "metadata": {
    "colab": {
     "base_uri": "https://localhost:8080/",
     "height": 282
    },
    "id": "y_JsWMT3u3vc",
    "outputId": "2724e829-a92e-425d-c640-2bc79e7b836d"
   },
   "outputs": [
    {
     "name": "stdout",
     "output_type": "stream",
     "text": [
      "3\n"
     ]
    },
    {
     "data": {
      "image/png": "[encoded data removed]",
      "text/plain": [
       "<Figure size 432x288 with 1 Axes>"
      ]
     },
     "metadata": {
      "tags": []
     },
     "output_type": "display_data"
    }
   ],
   "source": [
    "#Choose a random recording\n",
    "Sample_number = random.randrange(0, len(x_train))\n",
    "Sample_lenght = len(x_train[Sample_number])\n",
    "Sample_annotation = Y_train[Sample_number]\n",
    "\n",
    "#Build time axis\n",
    "t=[]\n",
    "for i in range (0, Sample_lenght):\n",
    "    t.append(i)\n",
    "\n",
    "#Plot ECG\n",
    "plot(t, x_train[Sample_number]);\n",
    "print(Sample_annotation)"
   ]
  },
  {
   "cell_type": "markdown",
   "metadata": {
    "id": "hP1OputIw80L"
   },
   "source": [
    "## Generate spectrograms"
   ]
  },
  {
   "cell_type": "code",
   "execution_count": null,
   "metadata": {
    "colab": {
     "base_uri": "https://localhost:8080/",
     "height": 302
    },
    "id": "wysB-hnku8Hw",
    "outputId": "d0f79b5d-24af-47e2-c78d-e4ced56da956"
   },
   "outputs": [
    {
     "name": "stderr",
     "output_type": "stream",
     "text": [
      "/usr/local/lib/python3.6/dist-packages/ipykernel_launcher.py:9: RuntimeWarning: More than 20 figures have been opened. Figures created through the pyplot interface (`matplotlib.pyplot.figure`) are retained until explicitly closed and may consume too much memory. (To control this warning, see the rcParam `figure.max_open_warning`).\n",
      "  if __name__ == '__main__':\n"
     ]
    },
    {
     "data": {
      "image/png": "[encoded data removed]",
      "text/plain": [
       "<Figure size 432x288 with 2 Axes>"
      ]
     },
     "metadata": {
      "tags": []
     },
     "output_type": "display_data"
    }
   ],
   "source": [
    "import matplotlib as mpl\n",
    "\n",
    "#x_train_spectral=[]\n",
    "for i in range (0, len(x_train)):\n",
    "    f, t, Sxx=scipy.signal.spectrogram(x_train[i], fs=300, nperseg=64, noverlap=32)\n",
    "    Sxx = abs(Sxx)\n",
    "    mask = Sxx > 0\n",
    "    Sxx[mask] = np.log(Sxx[mask])\n",
    "    fig, ax = plt.subplots()\n",
    "    ax.set_axis_off()\n",
    "    #ax1.plot(x_train[i]);\n",
    "    #print(Y_train[i])\n",
    "    pc = ax.pcolormesh(t, f, Sxx, cmap='jet')\n",
    "    plt.savefig(imagespath+'A/'+'A'+str(i)+'.png')\n",
    "    ax.set_ylabel('Frequency [Hz]')\n",
    "    ax.set_xlabel('Time [sec]')\n",
    "    plt.colorbar(pc)"
   ]
  }
 ],
 "metadata": {
  "colab": {
   "collapsed_sections": [],
   "name": "Signal Pre-processer.ipynb",
   "provenance": []
  },
  "kernelspec": {
   "display_name": "Python 3 (ipykernel)",
   "language": "python",
   "name": "python3"
  },
  "language_info": {
   "codemirror_mode": {
    "name": "ipython",
    "version": 3
   },
   "file_extension": ".py",
   "mimetype": "text/x-python",
   "name": "python",
   "nbconvert_exporter": "python",
   "pygments_lexer": "ipython3",
   "version": "3.9.7"
  }
 },
 "nbformat": 4,
 "nbformat_minor": 4
}
